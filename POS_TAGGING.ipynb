{
 "cells": [
  {
   "cell_type": "code",
   "execution_count": 4,
   "id": "41a98f39-72d9-40cd-ad1d-13e1c14ef7e9",
   "metadata": {},
   "outputs": [
    {
     "name": "stdout",
     "output_type": "stream",
     "text": [
      "Sentence with POS TAGS\n",
      "[('I', 'PRP'), ('am', 'VBP'), ('learning', 'VBG'), ('ML', 'NNP'), ('in', 'IN'), ('Python', 'NNP')]\n"
     ]
    }
   ],
   "source": [
    "import nltk\n",
    "\n",
    "# Input sentence\n",
    "sentence = \"I am learning ML in Python\"\n",
    "\n",
    "# Tokenize the sentence\n",
    "tokens = nltk.word_tokenize(sentence)\n",
    "\n",
    "# Perform POS tagging\n",
    "pos_tags = nltk.pos_tag(tokens)\n",
    "\n",
    "print(\"Sentence with POS TAGS\")\n",
    "# Print the sentence with its POS tags\n",
    "print(pos_tags)\n"
   ]
  },
  {
   "cell_type": "code",
   "execution_count": null,
   "id": "3eb83eea-46ee-4bc0-a781-9dc040bd4974",
   "metadata": {},
   "outputs": [],
   "source": []
  }
 ],
 "metadata": {
  "kernelspec": {
   "display_name": "Python 3 (ipykernel)",
   "language": "python",
   "name": "python3"
  },
  "language_info": {
   "codemirror_mode": {
    "name": "ipython",
    "version": 3
   },
   "file_extension": ".py",
   "mimetype": "text/x-python",
   "name": "python",
   "nbconvert_exporter": "python",
   "pygments_lexer": "ipython3",
   "version": "3.11.7"
  }
 },
 "nbformat": 4,
 "nbformat_minor": 5
}
